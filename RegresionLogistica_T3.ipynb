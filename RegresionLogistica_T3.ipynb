{
 "cells": [
  {
   "cell_type": "markdown",
   "metadata": {},
   "source": [
    "1. Realizar un análisis exploratorio de los datos para identificar relaciones entre variables, valores atípicos, tendencias, etc."
   ]
  },
  {
   "cell_type": "code",
   "execution_count": 77,
   "metadata": {},
   "outputs": [
    {
     "data": {
      "text/html": [
       "<div>\n",
       "<style scoped>\n",
       "    .dataframe tbody tr th:only-of-type {\n",
       "        vertical-align: middle;\n",
       "    }\n",
       "\n",
       "    .dataframe tbody tr th {\n",
       "        vertical-align: top;\n",
       "    }\n",
       "\n",
       "    .dataframe thead th {\n",
       "        text-align: right;\n",
       "    }\n",
       "</style>\n",
       "<table border=\"1\" class=\"dataframe\">\n",
       "  <thead>\n",
       "    <tr style=\"text-align: right;\">\n",
       "      <th></th>\n",
       "      <th>edad</th>\n",
       "      <th>sexo</th>\n",
       "      <th>dolor_toracico</th>\n",
       "      <th>presion_arterial</th>\n",
       "      <th>colesterol_mg/dl</th>\n",
       "      <th>glicemia</th>\n",
       "      <th>electrocardio</th>\n",
       "      <th>frecuencia</th>\n",
       "      <th>angina</th>\n",
       "      <th>deprecion</th>\n",
       "      <th>pendiente</th>\n",
       "      <th>num_vasos</th>\n",
       "      <th>defecto</th>\n",
       "      <th>condition</th>\n",
       "    </tr>\n",
       "  </thead>\n",
       "  <tbody>\n",
       "    <tr>\n",
       "      <th>0</th>\n",
       "      <td>69</td>\n",
       "      <td>1</td>\n",
       "      <td>0</td>\n",
       "      <td>160</td>\n",
       "      <td>234</td>\n",
       "      <td>1</td>\n",
       "      <td>2</td>\n",
       "      <td>131</td>\n",
       "      <td>0</td>\n",
       "      <td>0.1</td>\n",
       "      <td>1</td>\n",
       "      <td>1</td>\n",
       "      <td>0</td>\n",
       "      <td>0</td>\n",
       "    </tr>\n",
       "    <tr>\n",
       "      <th>1</th>\n",
       "      <td>69</td>\n",
       "      <td>0</td>\n",
       "      <td>0</td>\n",
       "      <td>140</td>\n",
       "      <td>239</td>\n",
       "      <td>0</td>\n",
       "      <td>0</td>\n",
       "      <td>151</td>\n",
       "      <td>0</td>\n",
       "      <td>1.8</td>\n",
       "      <td>0</td>\n",
       "      <td>2</td>\n",
       "      <td>0</td>\n",
       "      <td>0</td>\n",
       "    </tr>\n",
       "    <tr>\n",
       "      <th>2</th>\n",
       "      <td>66</td>\n",
       "      <td>0</td>\n",
       "      <td>0</td>\n",
       "      <td>150</td>\n",
       "      <td>226</td>\n",
       "      <td>0</td>\n",
       "      <td>0</td>\n",
       "      <td>114</td>\n",
       "      <td>0</td>\n",
       "      <td>2.6</td>\n",
       "      <td>2</td>\n",
       "      <td>0</td>\n",
       "      <td>0</td>\n",
       "      <td>0</td>\n",
       "    </tr>\n",
       "    <tr>\n",
       "      <th>3</th>\n",
       "      <td>65</td>\n",
       "      <td>1</td>\n",
       "      <td>0</td>\n",
       "      <td>138</td>\n",
       "      <td>282</td>\n",
       "      <td>1</td>\n",
       "      <td>2</td>\n",
       "      <td>174</td>\n",
       "      <td>0</td>\n",
       "      <td>1.4</td>\n",
       "      <td>1</td>\n",
       "      <td>1</td>\n",
       "      <td>0</td>\n",
       "      <td>1</td>\n",
       "    </tr>\n",
       "    <tr>\n",
       "      <th>4</th>\n",
       "      <td>64</td>\n",
       "      <td>1</td>\n",
       "      <td>0</td>\n",
       "      <td>110</td>\n",
       "      <td>211</td>\n",
       "      <td>0</td>\n",
       "      <td>2</td>\n",
       "      <td>144</td>\n",
       "      <td>1</td>\n",
       "      <td>1.8</td>\n",
       "      <td>1</td>\n",
       "      <td>0</td>\n",
       "      <td>0</td>\n",
       "      <td>0</td>\n",
       "    </tr>\n",
       "    <tr>\n",
       "      <th>...</th>\n",
       "      <td>...</td>\n",
       "      <td>...</td>\n",
       "      <td>...</td>\n",
       "      <td>...</td>\n",
       "      <td>...</td>\n",
       "      <td>...</td>\n",
       "      <td>...</td>\n",
       "      <td>...</td>\n",
       "      <td>...</td>\n",
       "      <td>...</td>\n",
       "      <td>...</td>\n",
       "      <td>...</td>\n",
       "      <td>...</td>\n",
       "      <td>...</td>\n",
       "    </tr>\n",
       "    <tr>\n",
       "      <th>292</th>\n",
       "      <td>40</td>\n",
       "      <td>1</td>\n",
       "      <td>3</td>\n",
       "      <td>152</td>\n",
       "      <td>223</td>\n",
       "      <td>0</td>\n",
       "      <td>0</td>\n",
       "      <td>181</td>\n",
       "      <td>0</td>\n",
       "      <td>0.0</td>\n",
       "      <td>0</td>\n",
       "      <td>0</td>\n",
       "      <td>2</td>\n",
       "      <td>1</td>\n",
       "    </tr>\n",
       "    <tr>\n",
       "      <th>293</th>\n",
       "      <td>39</td>\n",
       "      <td>1</td>\n",
       "      <td>3</td>\n",
       "      <td>118</td>\n",
       "      <td>219</td>\n",
       "      <td>0</td>\n",
       "      <td>0</td>\n",
       "      <td>140</td>\n",
       "      <td>0</td>\n",
       "      <td>1.2</td>\n",
       "      <td>1</td>\n",
       "      <td>0</td>\n",
       "      <td>2</td>\n",
       "      <td>1</td>\n",
       "    </tr>\n",
       "    <tr>\n",
       "      <th>294</th>\n",
       "      <td>35</td>\n",
       "      <td>1</td>\n",
       "      <td>3</td>\n",
       "      <td>120</td>\n",
       "      <td>198</td>\n",
       "      <td>0</td>\n",
       "      <td>0</td>\n",
       "      <td>130</td>\n",
       "      <td>1</td>\n",
       "      <td>1.6</td>\n",
       "      <td>1</td>\n",
       "      <td>0</td>\n",
       "      <td>2</td>\n",
       "      <td>1</td>\n",
       "    </tr>\n",
       "    <tr>\n",
       "      <th>295</th>\n",
       "      <td>35</td>\n",
       "      <td>0</td>\n",
       "      <td>3</td>\n",
       "      <td>138</td>\n",
       "      <td>183</td>\n",
       "      <td>0</td>\n",
       "      <td>0</td>\n",
       "      <td>182</td>\n",
       "      <td>0</td>\n",
       "      <td>1.4</td>\n",
       "      <td>0</td>\n",
       "      <td>0</td>\n",
       "      <td>0</td>\n",
       "      <td>0</td>\n",
       "    </tr>\n",
       "    <tr>\n",
       "      <th>296</th>\n",
       "      <td>35</td>\n",
       "      <td>1</td>\n",
       "      <td>3</td>\n",
       "      <td>126</td>\n",
       "      <td>282</td>\n",
       "      <td>0</td>\n",
       "      <td>2</td>\n",
       "      <td>156</td>\n",
       "      <td>1</td>\n",
       "      <td>0.0</td>\n",
       "      <td>0</td>\n",
       "      <td>0</td>\n",
       "      <td>2</td>\n",
       "      <td>1</td>\n",
       "    </tr>\n",
       "  </tbody>\n",
       "</table>\n",
       "<p>297 rows × 14 columns</p>\n",
       "</div>"
      ],
      "text/plain": [
       "     edad  sexo  dolor_toracico  presion_arterial  colesterol_mg/dl  glicemia  \\\n",
       "0      69     1               0               160               234         1   \n",
       "1      69     0               0               140               239         0   \n",
       "2      66     0               0               150               226         0   \n",
       "3      65     1               0               138               282         1   \n",
       "4      64     1               0               110               211         0   \n",
       "..    ...   ...             ...               ...               ...       ...   \n",
       "292    40     1               3               152               223         0   \n",
       "293    39     1               3               118               219         0   \n",
       "294    35     1               3               120               198         0   \n",
       "295    35     0               3               138               183         0   \n",
       "296    35     1               3               126               282         0   \n",
       "\n",
       "     electrocardio  frecuencia  angina  deprecion  pendiente  num_vasos  \\\n",
       "0                2         131       0        0.1          1          1   \n",
       "1                0         151       0        1.8          0          2   \n",
       "2                0         114       0        2.6          2          0   \n",
       "3                2         174       0        1.4          1          1   \n",
       "4                2         144       1        1.8          1          0   \n",
       "..             ...         ...     ...        ...        ...        ...   \n",
       "292              0         181       0        0.0          0          0   \n",
       "293              0         140       0        1.2          1          0   \n",
       "294              0         130       1        1.6          1          0   \n",
       "295              0         182       0        1.4          0          0   \n",
       "296              2         156       1        0.0          0          0   \n",
       "\n",
       "     defecto  condition  \n",
       "0          0          0  \n",
       "1          0          0  \n",
       "2          0          0  \n",
       "3          0          1  \n",
       "4          0          0  \n",
       "..       ...        ...  \n",
       "292        2          1  \n",
       "293        2          1  \n",
       "294        2          1  \n",
       "295        0          0  \n",
       "296        2          1  \n",
       "\n",
       "[297 rows x 14 columns]"
      ]
     },
     "execution_count": 77,
     "metadata": {},
     "output_type": "execute_result"
    }
   ],
   "source": [
    "# Importando Librerias de regresion logistic\n",
    "import pandas as pd\n",
    "import numpy as np\n",
    "import seaborn as sns\n",
    "import matplotlib.pyplot as mplot\n",
    "from sklearn import metrics \n",
    "from sklearn.model_selection import train_test_split\n",
    "from sklearn.linear_model import LinearRegression\n",
    "from sklearn.metrics import classification_report, confusion_matrix\n",
    "from sklearn.metrics import r2_score\n",
    "from sklearn.metrics import accuracy_score\n",
    "conjuntoDatos = pd.read_csv('./Dataset Heart Disease Cleveland UCI/heart_cleveland_upload.csv')\n",
    "conjuntoDatos.head(297)\n"
   ]
  },
  {
   "cell_type": "markdown",
   "metadata": {},
   "source": [
    "Importamos las diferentes librerias y el data set dataframe que nos ayudaran a realizar el arbol de decicsión e imprimimos el dataframe con 50 registros o filas llamado conjutoDatos para desarrollar la actividad."
   ]
  },
  {
   "cell_type": "code",
   "execution_count": 78,
   "metadata": {},
   "outputs": [
    {
     "name": "stdout",
     "output_type": "stream",
     "text": [
      "<class 'pandas.core.frame.DataFrame'>\n",
      "RangeIndex: 297 entries, 0 to 296\n",
      "Data columns (total 14 columns):\n",
      " #   Column            Non-Null Count  Dtype  \n",
      "---  ------            --------------  -----  \n",
      " 0   edad              297 non-null    int64  \n",
      " 1   sexo              297 non-null    int64  \n",
      " 2   dolor_toracico    297 non-null    int64  \n",
      " 3   presion_arterial  297 non-null    int64  \n",
      " 4   colesterol_mg/dl  297 non-null    int64  \n",
      " 5   glicemia          297 non-null    int64  \n",
      " 6   electrocardio     297 non-null    int64  \n",
      " 7   frecuencia        297 non-null    int64  \n",
      " 8   angina            297 non-null    int64  \n",
      " 9   deprecion         297 non-null    float64\n",
      " 10  pendiente         297 non-null    int64  \n",
      " 11  num_vasos         297 non-null    int64  \n",
      " 12  defecto           297 non-null    int64  \n",
      " 13  condition         297 non-null    int64  \n",
      "dtypes: float64(1), int64(13)\n",
      "memory usage: 32.6 KB\n"
     ]
    }
   ],
   "source": [
    "#imprimimos la informacion de las columnas del dataframe\n",
    "conjuntoDatos.info()"
   ]
  },
  {
   "cell_type": "markdown",
   "metadata": {},
   "source": [
    "Imprimimos la información del dataframe para saber si hay datos faltantes"
   ]
  },
  {
   "cell_type": "code",
   "execution_count": 79,
   "metadata": {},
   "outputs": [
    {
     "data": {
      "text/html": [
       "<div>\n",
       "<style scoped>\n",
       "    .dataframe tbody tr th:only-of-type {\n",
       "        vertical-align: middle;\n",
       "    }\n",
       "\n",
       "    .dataframe tbody tr th {\n",
       "        vertical-align: top;\n",
       "    }\n",
       "\n",
       "    .dataframe thead th {\n",
       "        text-align: right;\n",
       "    }\n",
       "</style>\n",
       "<table border=\"1\" class=\"dataframe\">\n",
       "  <thead>\n",
       "    <tr style=\"text-align: right;\">\n",
       "      <th></th>\n",
       "      <th>condition</th>\n",
       "    </tr>\n",
       "  </thead>\n",
       "  <tbody>\n",
       "    <tr>\n",
       "      <th>0</th>\n",
       "      <td>0</td>\n",
       "    </tr>\n",
       "    <tr>\n",
       "      <th>1</th>\n",
       "      <td>0</td>\n",
       "    </tr>\n",
       "    <tr>\n",
       "      <th>2</th>\n",
       "      <td>0</td>\n",
       "    </tr>\n",
       "    <tr>\n",
       "      <th>3</th>\n",
       "      <td>1</td>\n",
       "    </tr>\n",
       "    <tr>\n",
       "      <th>4</th>\n",
       "      <td>0</td>\n",
       "    </tr>\n",
       "    <tr>\n",
       "      <th>...</th>\n",
       "      <td>...</td>\n",
       "    </tr>\n",
       "    <tr>\n",
       "      <th>292</th>\n",
       "      <td>1</td>\n",
       "    </tr>\n",
       "    <tr>\n",
       "      <th>293</th>\n",
       "      <td>1</td>\n",
       "    </tr>\n",
       "    <tr>\n",
       "      <th>294</th>\n",
       "      <td>1</td>\n",
       "    </tr>\n",
       "    <tr>\n",
       "      <th>295</th>\n",
       "      <td>0</td>\n",
       "    </tr>\n",
       "    <tr>\n",
       "      <th>296</th>\n",
       "      <td>1</td>\n",
       "    </tr>\n",
       "  </tbody>\n",
       "</table>\n",
       "<p>297 rows × 1 columns</p>\n",
       "</div>"
      ],
      "text/plain": [
       "     condition\n",
       "0            0\n",
       "1            0\n",
       "2            0\n",
       "3            1\n",
       "4            0\n",
       "..         ...\n",
       "292          1\n",
       "293          1\n",
       "294          1\n",
       "295          0\n",
       "296          1\n",
       "\n",
       "[297 rows x 1 columns]"
      ]
     },
     "execution_count": 79,
     "metadata": {},
     "output_type": "execute_result"
    }
   ],
   "source": [
    "#Imprimimos la variable Objetivo para su analisis\n",
    "conjuntoDatos[[\"condition\"]]"
   ]
  },
  {
   "cell_type": "markdown",
   "metadata": {},
   "source": [
    "2. Preprocesar los datos limpiándolos, tratando valores faltantes y transformándolos según sea necesario."
   ]
  },
  {
   "cell_type": "code",
   "execution_count": 80,
   "metadata": {},
   "outputs": [
    {
     "data": {
      "text/plain": [
       "Text(0.5, 1.0, 'Identificacion de datos atipicos')"
      ]
     },
     "execution_count": 80,
     "metadata": {},
     "output_type": "execute_result"
    },
    {
     "data": {
      "image/png": "[encoded data removed]",
      "text/plain": [
       "<Figure size 500x200 with 1 Axes>"
      ]
     },
     "metadata": {},
     "output_type": "display_data"
    }
   ],
   "source": [
    "mplot.figure(figsize = (5,2))\n",
    "sns.boxplot(x = conjuntoDatos[\"dolor_toracico\"])\n",
    "mplot.title(\"Identificacion de datos atipicos\", fontsize = 10)"
   ]
  },
  {
   "cell_type": "markdown",
   "metadata": {},
   "source": [
    "La grafica muetra que exsten datos atipicos pero esos datos pertenecen a la ausencia de dolores a nivele de torax y una persona puede tener o no dolor."
   ]
  },
  {
   "cell_type": "code",
   "execution_count": 81,
   "metadata": {},
   "outputs": [
    {
     "data": {
      "text/plain": [
       "Text(0.5, 1.0, 'Identificacion de datos atipicos')"
      ]
     },
     "execution_count": 81,
     "metadata": {},
     "output_type": "execute_result"
    },
    {
     "data": {
      "image/png": "[encoded data removed]",
      "text/plain": [
       "<Figure size 500x200 with 1 Axes>"
      ]
     },
     "metadata": {},
     "output_type": "display_data"
    }
   ],
   "source": [
    "mplot.figure(figsize = (5,2))\n",
    "sns.boxplot(x = conjuntoDatos[\"angina\"])\n",
    "mplot.title(\"Identificacion de datos atipicos\", fontsize = 10)"
   ]
  },
  {
   "cell_type": "code",
   "execution_count": 82,
   "metadata": {},
   "outputs": [
    {
     "data": {
      "text/plain": [
       "Text(0.5, 1.0, 'Identificacion de datos atipicos')"
      ]
     },
     "execution_count": 82,
     "metadata": {},
     "output_type": "execute_result"
    },
    {
     "data": {
      "image/png": "[encoded data removed]",
      "text/plain": [
       "<Figure size 500x200 with 1 Axes>"
      ]
     },
     "metadata": {},
     "output_type": "display_data"
    }
   ],
   "source": [
    "mplot.figure(figsize = (5,2))\n",
    "sns.boxplot(x = conjuntoDatos[\"edad\"])\n",
    "mplot.title(\"Identificacion de datos atipicos\", fontsize = 10)"
   ]
  },
  {
   "cell_type": "code",
   "execution_count": 83,
   "metadata": {},
   "outputs": [
    {
     "data": {
      "text/plain": [
       "Text(0.5, 1.0, 'Identificacion de datos atipicos')"
      ]
     },
     "execution_count": 83,
     "metadata": {},
     "output_type": "execute_result"
    },
    {
     "data": {
      "image/png": "[encoded data removed]",
      "text/plain": [
       "<Figure size 500x200 with 1 Axes>"
      ]
     },
     "metadata": {},
     "output_type": "display_data"
    }
   ],
   "source": [
    "mplot.figure(figsize = (5,2))\n",
    "sns.boxplot(x = conjuntoDatos[\"glicemia\"])\n",
    "mplot.title(\"Identificacion de datos atipicos\", fontsize = 10)"
   ]
  },
  {
   "cell_type": "markdown",
   "metadata": {},
   "source": [
    "Graficamos las variables predictoras de manera que podamos saber si existen datos atipicos o erroneos"
   ]
  },
  {
   "cell_type": "code",
   "execution_count": 84,
   "metadata": {},
   "outputs": [
    {
     "name": "stdout",
     "output_type": "stream",
     "text": [
      "---------------------------------------------------------\n",
      "Cantidad de registros null en la columna Edad: 0\n",
      "Cantidad de registros 0 en la columna Dolor Toracico: 23\n",
      "Cantidad de registros 0 en la columna Presion Arterial: 0\n",
      "Cantidad de registros 0 en la columna Anginas: 200\n",
      "Cantidad de registros 0 en la columna Glicemia: 254\n",
      "Cantidad de registros 0 en la columna frecuencia cardiaca: 0\n",
      "Cantidad de registros 0 en la columna colesterol_mg/dl: 0\n",
      "----------------------------------------------------------\n"
     ]
    }
   ],
   "source": [
    "print(\"---------------------------------------------------------\")\n",
    "print(\"Cantidad de registros null en la columna Edad:\", conjuntoDatos['edad'].isin([0]).sum())\n",
    "print(\"Cantidad de registros 0 en la columna Dolor Toracico:\", conjuntoDatos['dolor_toracico'].isin([0]).sum())\n",
    "print(\"Cantidad de registros 0 en la columna Presion Arterial:\", conjuntoDatos['presion_arterial'].isin([0]).sum())\n",
    "print(\"Cantidad de registros 0 en la columna Anginas:\", conjuntoDatos['angina'].isin([0]).sum())\n",
    "print(\"Cantidad de registros 0 en la columna Glicemia:\", conjuntoDatos['glicemia'].isin([0]).sum())\n",
    "print(\"Cantidad de registros 0 en la columna frecuencia cardiaca:\", conjuntoDatos['frecuencia'].isin([0]).sum())\n",
    "print(\"Cantidad de registros 0 en la columna colesterol_mg/dl:\", conjuntoDatos['colesterol_mg/dl'].isin([0]).sum())\n",
    "print(\"----------------------------------------------------------\")"
   ]
  },
  {
   "cell_type": "markdown",
   "metadata": {},
   "source": [
    "Imprimimos la suma de las columnas con datos 0 y identificamos si esos valores son relevantes para el analisis de regresión logistica."
   ]
  },
  {
   "cell_type": "markdown",
   "metadata": {},
   "source": [
    "3. Seleccionar las características más relevantes para entrenar el modelo utilizando selección de características."
   ]
  },
  {
   "cell_type": "code",
   "execution_count": 85,
   "metadata": {},
   "outputs": [
    {
     "data": {
      "text/plain": [
       "condition\n",
       "0    160\n",
       "1    137\n",
       "Name: count, dtype: int64"
      ]
     },
     "execution_count": 85,
     "metadata": {},
     "output_type": "execute_result"
    }
   ],
   "source": [
    "conjuntoDatos[\"condition\"].value_counts()"
   ]
  },
  {
   "cell_type": "markdown",
   "metadata": {},
   "source": [
    "Contamos e imprimimos la cantidad de valores 0 como 1  en la columna condition columna objetivo del analisis."
   ]
  },
  {
   "cell_type": "code",
   "execution_count": 86,
   "metadata": {},
   "outputs": [
    {
     "data": {
      "text/plain": [
       "Text(0.5, 1.0, 'Identificacion de datos atipicos')"
      ]
     },
     "execution_count": 86,
     "metadata": {},
     "output_type": "execute_result"
    },
    {
     "data": {
      "image/png": "[encoded data removed]",
      "text/plain": [
       "<Figure size 500x200 with 1 Axes>"
      ]
     },
     "metadata": {},
     "output_type": "display_data"
    }
   ],
   "source": [
    "mplot.figure(figsize = (5,2))\n",
    "sns.boxplot(x = conjuntoDatos[\"condition\"])\n",
    "mplot.title(\"Identificacion de datos atipicos\", fontsize = 10)"
   ]
  },
  {
   "cell_type": "markdown",
   "metadata": {},
   "source": [
    "Graficamos la variable Objetivo y no encontramos datos atpicos."
   ]
  },
  {
   "cell_type": "code",
   "execution_count": 87,
   "metadata": {},
   "outputs": [
    {
     "data": {
      "text/plain": [
       "Text(0.5, 1.0, 'Identificacion de datos atipicos')"
      ]
     },
     "execution_count": 87,
     "metadata": {},
     "output_type": "execute_result"
    },
    {
     "data": {
      "image/png": "[encoded data removed]",
      "text/plain": [
       "<Figure size 500x200 with 1 Axes>"
      ]
     },
     "metadata": {},
     "output_type": "display_data"
    }
   ],
   "source": [
    "mplot.figure(figsize = (5,2))\n",
    "sns.boxplot(x = conjuntoDatos[\"presion_arterial\"])\n",
    "mplot.title(\"Identificacion de datos atipicos\", fontsize = 10)"
   ]
  },
  {
   "cell_type": "markdown",
   "metadata": {},
   "source": [
    "Graficamos la variable presion arterial importante para el analisis de enfermedad cardiaca y vemos datos atipicos o erroneos entonces nos disponemos a identificarlos."
   ]
  },
  {
   "cell_type": "code",
   "execution_count": 88,
   "metadata": {},
   "outputs": [
    {
     "name": "stdout",
     "output_type": "stream",
     "text": [
      "Cantidad de datos atipicos en Presion Arterial es: 64\n"
     ]
    }
   ],
   "source": [
    "#Datos atipicos en presion arterial.\n",
    "nivelminpresion = 115\n",
    "nivelmaxpresion = 160\n",
    "datosAtipicos = ((conjuntoDatos['presion_arterial'] < nivelminpresion)|\n",
    "                 (conjuntoDatos['presion_arterial'] > nivelmaxpresion)).sum()\n",
    "print(\"Cantidad de datos atipicos en Presion Arterial es: {}\".format(datosAtipicos))\n"
   ]
  },
  {
   "cell_type": "code",
   "execution_count": 89,
   "metadata": {},
   "outputs": [],
   "source": [
    "onjuntoDatos = conjuntoDatos[(conjuntoDatos['presion_arterial']< nivelminpresion) & \n",
    "                             (conjuntoDatos['presion_arterial']> nivelmaxpresion)]"
   ]
  },
  {
   "cell_type": "code",
   "execution_count": 90,
   "metadata": {},
   "outputs": [
    {
     "name": "stdout",
     "output_type": "stream",
     "text": [
      "Cantidad de datos atipicos en Presion Arterial es: 64\n"
     ]
    }
   ],
   "source": [
    "datosAtipicos = ((conjuntoDatos['presion_arterial'] < nivelminpresion)|\n",
    "                 (conjuntoDatos['presion_arterial'] > nivelmaxpresion)).sum()\n",
    "print(\"Cantidad de datos atipicos en Presion Arterial es: {}\".format(datosAtipicos))"
   ]
  },
  {
   "cell_type": "code",
   "execution_count": 91,
   "metadata": {},
   "outputs": [
    {
     "name": "stdout",
     "output_type": "stream",
     "text": [
      "<class 'pandas.core.frame.DataFrame'>\n",
      "RangeIndex: 297 entries, 0 to 296\n",
      "Data columns (total 14 columns):\n",
      " #   Column            Non-Null Count  Dtype  \n",
      "---  ------            --------------  -----  \n",
      " 0   edad              297 non-null    int64  \n",
      " 1   sexo              297 non-null    int64  \n",
      " 2   dolor_toracico    297 non-null    int64  \n",
      " 3   presion_arterial  297 non-null    int64  \n",
      " 4   colesterol_mg/dl  297 non-null    int64  \n",
      " 5   glicemia          297 non-null    int64  \n",
      " 6   electrocardio     297 non-null    int64  \n",
      " 7   frecuencia        297 non-null    int64  \n",
      " 8   angina            297 non-null    int64  \n",
      " 9   deprecion         297 non-null    float64\n",
      " 10  pendiente         297 non-null    int64  \n",
      " 11  num_vasos         297 non-null    int64  \n",
      " 12  defecto           297 non-null    int64  \n",
      " 13  condition         297 non-null    int64  \n",
      "dtypes: float64(1), int64(13)\n",
      "memory usage: 32.6 KB\n"
     ]
    }
   ],
   "source": [
    "conjuntoDatos.info()"
   ]
  },
  {
   "cell_type": "markdown",
   "metadata": {},
   "source": [
    "4. Dividir el dataset en Train y Test para evaluar correctamente el modelo."
   ]
  },
  {
   "cell_type": "code",
   "execution_count": 92,
   "metadata": {},
   "outputs": [],
   "source": [
    "\n",
    "ejeX = conjuntoDatos.drop('condition',axis=1)\n",
    "ejeY = conjuntoDatos['condition']\n",
    "ejeX_train, ejeX_test, ejeY_train, ejeY_test = train_test_split(ejeX,ejeY, test_size=0.25, random_state=0)"
   ]
  },
  {
   "cell_type": "code",
   "execution_count": 93,
   "metadata": {},
   "outputs": [
    {
     "name": "stdout",
     "output_type": "stream",
     "text": [
      "     edad  sexo  dolor_toracico  presion_arterial  colesterol_mg/dl  glicemia  \\\n",
      "159    68     1               3               144               193         1   \n",
      "90     62     1               2               130               231         0   \n",
      "269    48     1               3               130               256         1   \n",
      "157    70     1               3               145               174         0   \n",
      "198    60     1               3               130               206         0   \n",
      "..    ...   ...             ...               ...               ...       ...   \n",
      "251    53     0               3               130               264         0   \n",
      "192    61     1               3               120               260         0   \n",
      "117    52     1               2               172               199         1   \n",
      "47     52     1               1               134               201         0   \n",
      "172    65     1               3               120               177         0   \n",
      "\n",
      "     electrocardio  frecuencia  angina  deprecion  pendiente  num_vasos  \\\n",
      "159              0         141       0        3.4          1          2   \n",
      "90               0         146       0        1.8          1          3   \n",
      "269              2         150       1        0.0          0          2   \n",
      "157              0         125       1        2.6          2          0   \n",
      "198              2         132       1        2.4          1          2   \n",
      "..             ...         ...     ...        ...        ...        ...   \n",
      "251              2         143       0        0.4          1          0   \n",
      "192              0         140       1        3.6          1          1   \n",
      "117              0         162       0        0.5          0          0   \n",
      "47               0         158       0        0.8          0          1   \n",
      "172              0         140       0        0.4          0          0   \n",
      "\n",
      "     defecto  \n",
      "159        2  \n",
      "90         2  \n",
      "269        2  \n",
      "157        2  \n",
      "198        2  \n",
      "..       ...  \n",
      "251        0  \n",
      "192        2  \n",
      "117        2  \n",
      "47         0  \n",
      "172        2  \n",
      "\n",
      "[222 rows x 13 columns]\n"
     ]
    }
   ],
   "source": [
    "print(ejeX_train)"
   ]
  },
  {
   "cell_type": "code",
   "execution_count": 94,
   "metadata": {},
   "outputs": [
    {
     "name": "stdout",
     "output_type": "stream",
     "text": [
      "159    1\n",
      "90     0\n",
      "269    1\n",
      "157    1\n",
      "198    1\n",
      "      ..\n",
      "251    0\n",
      "192    1\n",
      "117    0\n",
      "47     0\n",
      "172    0\n",
      "Name: condition, Length: 222, dtype: int64\n"
     ]
    }
   ],
   "source": [
    "print(ejeY_train)"
   ]
  },
  {
   "cell_type": "markdown",
   "metadata": {},
   "source": [
    "5. Entrenar el modelo configurando los diferentes hiperparámetros."
   ]
  },
  {
   "cell_type": "code",
   "execution_count": 95,
   "metadata": {},
   "outputs": [],
   "source": [
    "from sklearn.linear_model import LogisticRegression\n",
    "regresion_logistica = LogisticRegression(solver = \"liblinear\")\n",
    "regresion_logistica.fit(ejeX_train, ejeY_train)\n",
    "prediccion = regresion_logistica.predict(ejeX_test)"
   ]
  },
  {
   "cell_type": "code",
   "execution_count": 96,
   "metadata": {},
   "outputs": [
    {
     "name": "stdout",
     "output_type": "stream",
     "text": [
      "111    0\n",
      "150    0\n",
      "12     1\n",
      "216    1\n",
      "139    0\n",
      "      ..\n",
      "27     0\n",
      "218    0\n",
      "256    0\n",
      "37     0\n",
      "92     0\n",
      "Name: condition, Length: 75, dtype: int64\n"
     ]
    }
   ],
   "source": [
    "print(ejeY_test)"
   ]
  },
  {
   "cell_type": "code",
   "execution_count": 97,
   "metadata": {},
   "outputs": [
    {
     "name": "stdout",
     "output_type": "stream",
     "text": [
      "[0 0 0 1 0 1 1 1 1 1 0 0 1 1 0 1 0 1 1 0 0 1 1 1 0 0 1 1 1 0 0 0 0 1 1 1 0\n",
      " 1 0 0 1 0 1 0 1 0 1 1 1 0 0 0 0 1 0 1 1 1 0 0 1 0 1 0 1 0 0 0 0 1 0 0 1 0\n",
      " 0]\n"
     ]
    }
   ],
   "source": [
    "print(prediccion)"
   ]
  },
  {
   "cell_type": "markdown",
   "metadata": {},
   "source": [
    "6. Evaluar el desempeño del modelo en el conjunto de Test con métricas como precisión, recall, F1-score, etc."
   ]
  },
  {
   "cell_type": "code",
   "execution_count": 98,
   "metadata": {},
   "outputs": [
    {
     "name": "stdout",
     "output_type": "stream",
     "text": [
      "              precision    recall  f1-score   support\n",
      "\n",
      "           0       0.79      0.91      0.85        34\n",
      "           1       0.92      0.80      0.86        41\n",
      "\n",
      "    accuracy                           0.85        75\n",
      "   macro avg       0.86      0.86      0.85        75\n",
      "weighted avg       0.86      0.85      0.85        75\n",
      "\n"
     ]
    }
   ],
   "source": [
    "print(classification_report(ejeY_test, prediccion))"
   ]
  },
  {
   "cell_type": "markdown",
   "metadata": {},
   "source": [
    "7. Realizar las diferentes gráficas que permitan visualizar los resultados del modelo."
   ]
  },
  {
   "cell_type": "code",
   "execution_count": 99,
   "metadata": {},
   "outputs": [
    {
     "data": {
      "text/plain": [
       "<sklearn.metrics._plot.confusion_matrix.ConfusionMatrixDisplay at 0x120b1540b90>"
      ]
     },
     "execution_count": 99,
     "metadata": {},
     "output_type": "execute_result"
    },
    {
     "data": {
      "image/png": "[encoded data removed]",
      "text/plain": [
       "<Figure size 640x480 with 2 Axes>"
      ]
     },
     "metadata": {},
     "output_type": "display_data"
    }
   ],
   "source": [
    "matriz_confusion = confusion_matrix(ejeY_test, prediccion)\n",
    "visualizar = metrics.ConfusionMatrixDisplay(confusion_matrix = matriz_confusion)\n",
    "visualizar.plot()"
   ]
  },
  {
   "cell_type": "code",
   "execution_count": 100,
   "metadata": {},
   "outputs": [
    {
     "data": {
      "text/plain": [
       "<function matplotlib.pyplot.show(close=None, block=None)>"
      ]
     },
     "execution_count": 100,
     "metadata": {},
     "output_type": "execute_result"
    },
    {
     "data": {
      "image/png": "[encoded data removed]",
      "text/plain": [
       "<Figure size 640x480 with 1 Axes>"
      ]
     },
     "metadata": {},
     "output_type": "display_data"
    }
   ],
   "source": [
    "from sklearn.metrics import RocCurveDisplay\n",
    "RocCurveDisplay.from_predictions(ejeY_test, prediccion)\n",
    "mplot.show"
   ]
  },
  {
   "cell_type": "markdown",
   "metadata": {},
   "source": [
    "8. Interpretar, analizar y documentar los resultados obtenidos."
   ]
  },
  {
   "cell_type": "markdown",
   "metadata": {},
   "source": [
    "Despues de generar el modelo interpretamos, analizamos documentamos hallazgos:\n",
    "\n",
    "1. PRECISION: La precisión de la predicción de la variable objetivo (condition) fue para lo que se dijo que tenian enfermedad cardiaca, siendo correctamente el  92% y para los que no tenian enfermedad cardiaca, el porcentaje correcto fue del 79%.\n",
    "\n",
    "2. RECALL: La medición mostro para la clase objetivo (condition) del modelo el 80% de acierto, significa esto que         no tenian enfermedad cardiaca, se determinó correctamente a todos los diabeticos.\n",
    "\n",
    "3. F1 SCORE: Encontramos un equilibrio del modelo en el 86% de la clase objetivo(condition).\n",
    "\n",
    "Matriz de confusion interpretamos los datos generados.\n",
    "\n",
    "1. VERDADEROOS POSITIVOS: Observamos que un clasificador predijo el recuento verdaderamente de 33.\n",
    "2. VERDADEROS NEGATIVOS: Un clisificador predijo en las obsrvaciones que 31 eran falsos.\n",
    "3. FALSOS POSITIVOS: El recuento de un clasificador en las observaciones predijo incorectamente que las verdaderas eran 3.\n",
    "4. FALSOS NEGATIVOS: En las observaciones de un clasificador se predijo incorrectamente como falsas 8.\n",
    "\n",
    "LA CURVA ROC.\n",
    "Las predicciones son correctas en todos los limites mostrado en el AUC de la curva 86%.\n",
    "\n",
    "\n",
    "\n",
    "\n"
   ]
  }
 ],
 "metadata": {
  "kernelspec": {
   "display_name": "base",
   "language": "python",
   "name": "python3"
  },
  "language_info": {
   "codemirror_mode": {
    "name": "ipython",
    "version": 3
   },
   "file_extension": ".py",
   "mimetype": "text/x-python",
   "name": "python",
   "nbconvert_exporter": "python",
   "pygments_lexer": "ipython3",
   "version": "3.11.5"
  }
 },
 "nbformat": 4,
 "nbformat_minor": 2
}
